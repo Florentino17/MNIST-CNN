{
 "cells": [
  {
   "cell_type": "code",
   "execution_count": 2,
   "metadata": {},
   "outputs": [],
   "source": [
    "import torch\n",
    "import torch.nn.functional as F\n",
    "from torchvision import transforms  # 是一个常用的图片变换类\n",
    "from torchvision import datasets\n",
    "from torch.utils.data import DataLoader\n",
    "import prettytable\n",
    "\n",
    "Side_length=8\n",
    "my_batch_size = Side_length*Side_length\n",
    "\n",
    "MyTransform = transforms.Compose(\n",
    "    [\n",
    "        transforms.ToTensor(),  # 把数据转换成张量\n",
    "        transforms.Normalize((0.1307,), (0.3081,))  # 0.1307是均值，0.3081是标准差，具体如何计算得到，之后再看\n",
    "    ]\n",
    ")\n",
    "train_dataset = datasets.MNIST(root='./dataset/mnist',train=True,\n",
    "            download=False, transform=MyTransform)  # #第一次使用需要设置为true，下载数据集,使用的图片变换类transforms\n",
    "train_process_data = DataLoader(train_dataset,  \n",
    "            shuffle=True, batch_size=my_batch_size)   #shuffle：是否将数据打乱   #batch_size设置为my_batch_size\n",
    "test_dataset = datasets.MNIST(root='./dataset/mnist',train=False,\n",
    "            download=False,transform=MyTransform)\n",
    "test_process_data = DataLoader(test_dataset,\n",
    "            shuffle=True,batch_size=my_batch_size)\n",
    "\n",
    "class MyCNN_NET(torch.nn.Module):\n",
    "    def __init__(self):\n",
    "        super(MyCNN_NET, self).__init__()  #初始化函数为空\n",
    "\n",
    "        self.L1_conv_pool = torch.nn.Sequential(  # torch.nn.Sequential理解为向网络中增加结构\n",
    "            torch.nn.Conv2d(1, 26, kernel_size=3), #卷积层，输入通道数目，输出通道数目，卷积核大小为3*3\n",
    "            torch.nn.BatchNorm2d(26),   #输入batch的每一个特征通道进行normalize，对25个通道进行normalize标准化\n",
    "            torch.nn.ReLU(inplace=True),  #激活函数relu  inplace为True，将会改变输入的数据 \n",
    "\n",
    "            torch.nn.MaxPool2d(kernel_size=2, stride=2)  #kernel_size ：表示做最大池化的窗口大小，可以是单个值，也可以是tuple元组\n",
    "                                                            #stride ：步长，可以是单个值，也可以是tuple元组\n",
    "        )\n",
    "        self.L2_conv_pool = torch.nn.Sequential(\n",
    "            torch.nn.Conv2d(26, 52, kernel_size=3),  #输出通道数50\n",
    "            torch.nn.BatchNorm2d(52),\n",
    "            torch.nn.ReLU(inplace=True) ,\n",
    "            torch.nn.MaxPool2d(kernel_size=2, stride=2) \n",
    "        )\n",
    "        self.L3_fc = torch.nn.Sequential(  #全连接层\n",
    "            torch.nn.Linear(52 * 5 * 5, 1024),  #由1250*1024变到1024*128，变到128*10\n",
    "            torch.nn.ReLU(inplace=True),\n",
    "            torch.nn.Linear(1024, 128),\n",
    "            torch.nn.ReLU(inplace=True),\n",
    "            torch.nn.Linear(128, 10)\n",
    "        )\n",
    "    \n",
    "    def ForwardPropagation(self, x):\n",
    "        x = self.L1_conv_pool(x)\n",
    "        x = self.L2_conv_pool(x)\n",
    "        x = x.view(x.size(0), -1)  # 在进入全连接层之前需要把数据拉直Flatten   view()的作用相当于numpy中的reshape，重新定义矩阵的形状。\n",
    "        #变行数为x.size(0)，列数随着其自动调整\n",
    "        x = self.L3_fc(x)\n",
    "        return x"
   ]
  },
  {
   "cell_type": "code",
   "execution_count": 6,
   "metadata": {},
   "outputs": [],
   "source": [
    "\n",
    "def myTest():\n",
    "    print(\"test===0\")\n",
    "    correct_sum = 0\n",
    "    total_sum = 0\n",
    "    with torch.no_grad():  # torch.no_grad()是一个上下文管理器，用来禁止梯度的计算，通常用来网络推断中，它可以减少计算内存的使用量。\n",
    "        for data in test_process_data:\n",
    "            Feature, Tag = data\n",
    "            # Feature, Tag = Feature.to(device), Tag.to(device)  # 将数据放在GPU上跑所需要的代码\n",
    "            outputs = model_CNN2.ForwardPropagation(Feature)\n",
    "            Row_Max , Max_Index = torch.max(outputs.data, dim=1)  # Row_Max为每一行的最大值，predicted表示每一行最大值的下标\n",
    "            #input是softmax函数输出的一个tensor ， dim是max函数索引的维度0/1，0是每列的最大值，1是每行的最大值\n",
    "            total_sum += Tag.size(0)  #计算样本总数\n",
    "            correct_sum += (Max_Index == Tag).sum().item()   \n",
    "            mypredict.append(Max_Index)                 \n",
    "            realtarget.append(Tag)               \n",
    "    print(type(correct_sum))\n",
    "    print(type(total_sum))\n",
    "    print('Accuracy :%.6f %%' % (100 * correct_sum / total_sum))"
   ]
  },
  {
   "cell_type": "code",
   "execution_count": 8,
   "metadata": {},
   "outputs": [
    {
     "name": "stdout",
     "output_type": "stream",
     "text": [
      "test===0\n",
      "<class 'int'>\n",
      "<class 'int'>\n",
      "Accuracy :99.400000 %\n"
     ]
    }
   ],
   "source": [
    "if __name__ == '__main__':\n",
    "    realtarget=[]\n",
    "    mypredict=[]\n",
    "    model_CNN2 = MyCNN_NET()\n",
    "    model_weight_path = \"./modelpth/model_new_18.pth\"\n",
    "    model_CNN2 = torch.load(model_weight_path)\n",
    "    myTest()\n",
    "    "
   ]
  }
 ],
 "metadata": {
  "interpreter": {
   "hash": "335ddbc004233a7b01ddb2f89126eb9ef318bdab1b2646dc45405f096632921a"
  },
  "kernelspec": {
   "display_name": "Python 3.7.1 ('pytranscd37')",
   "language": "python",
   "name": "python3"
  },
  "language_info": {
   "codemirror_mode": {
    "name": "ipython",
    "version": 3
   },
   "file_extension": ".py",
   "mimetype": "text/x-python",
   "name": "python",
   "nbconvert_exporter": "python",
   "pygments_lexer": "ipython3",
   "version": "3.7.1"
  },
  "orig_nbformat": 4
 },
 "nbformat": 4,
 "nbformat_minor": 2
}
